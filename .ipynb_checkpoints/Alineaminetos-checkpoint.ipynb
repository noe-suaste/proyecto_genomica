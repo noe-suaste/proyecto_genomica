{
 "cells": [
  {
   "cell_type": "code",
   "execution_count": 1,
   "id": "ce503a94",
   "metadata": {},
   "outputs": [
    {
     "name": "stderr",
     "output_type": "stream",
     "text": [
      "/Users/davidhernandez/Library/Python/3.9/lib/python/site-packages/Bio/pairwise2.py:278: BiopythonDeprecationWarning: Bio.pairwise2 has been deprecated, and we intend to remove it in a future release of Biopython. As an alternative, please consider using Bio.Align.PairwiseAligner as a replacement, and contact the Biopython developers if you still need the Bio.pairwise2 module.\n",
      "  warnings.warn(\n"
     ]
    }
   ],
   "source": [
    "from allignment import *"
   ]
  },
  {
   "cell_type": "code",
   "execution_count": 2,
   "id": "c3fe5810",
   "metadata": {},
   "outputs": [],
   "source": [
    "# PRIMER EJEMPLO\n",
    "# Secuencia original vs Alpha\n",
    "\n",
    "ref_seq = read_fasta(\"secuencias/ref_seq.fasta\")\n",
    "alpha_seq = read_fasta(\"secuencias/alpha.fasta\")"
   ]
  },
  {
   "cell_type": "code",
   "execution_count": 3,
   "id": "5a3906ac",
   "metadata": {},
   "outputs": [
    {
     "name": "stdout",
     "output_type": "stream",
     "text": [
      "Secuencia de referencia: G = 5863, C = 5492\n",
      "Alpha: G = 5844, C = 5462\n"
     ]
    }
   ],
   "source": [
    "refC, refG = count_c_and_g(ref_seq)\n",
    "alphaC, alphaG = count_c_and_g(alpha_seq)\n",
    "\n",
    "print(f\"Secuencia de referencia: G = {refG}, C = {refC}\")\n",
    "print(f\"Alpha: G = {alphaG}, C = {alphaC}\")"
   ]
  },
  {
   "cell_type": "markdown",
   "id": "b3bd1728",
   "metadata": {},
   "source": [
    "## Definimos los valores de penalización"
   ]
  },
  {
   "cell_type": "code",
   "execution_count": 4,
   "id": "4079e8c2",
   "metadata": {},
   "outputs": [],
   "source": [
    "gap_penalty = -1\n",
    "match_score = 2\n",
    "mismatch_penalty = -1"
   ]
  },
  {
   "cell_type": "markdown",
   "id": "04eb2522",
   "metadata": {},
   "source": [
    "## Comparamos un pedazo de ambas sencuencias"
   ]
  },
  {
   "cell_type": "markdown",
   "id": "3e46cf0a",
   "metadata": {},
   "source": [
    "Sólo comparamos una región ya que los FASTA son bastantes largos, entonces nuestras computadoras no tiene la memoria suficiente para soportar"
   ]
  },
  {
   "cell_type": "code",
   "execution_count": 5,
   "id": "7b25852f",
   "metadata": {},
   "outputs": [
    {
     "name": "stdout",
     "output_type": "stream",
     "text": [
      "TTCGTCCGTGTTGCAGCCGATCATCAGCACATCTAGGTTTCGTCCGGGTGTGACCGAAAGGTAAGATGGAGAGCCTTGTCCCTGGTTTCAACGAGAAAACACACGTCCAACTCAGTTTGCCTGTTTTACAGGTTCGCGACGTGCTCGTACGTGGCTTTGGAGACTCCGTGGAGGAGGTCTTATCAGAGGCACGTCAACATCTTAAAGATGGCACTTGTGGCTTAGTAGAAGTTGAAAAAGGCGTTTTGCCTCAACTTGAACAGCCCTATGTGTTCATCAAACGTTCGGATGCTCGAACTGCACCTCATGGTCATGTTATGGTTGAGCTGGTAGCAGAACTCGAAGGCATTCAGTACGGTCGTAGTGGTGAGACACTTGGTGTCCTTGTCCCTCATGTGGG\n",
      "||||||||||||||||||||||||||||||||||||||||.|||||||||||||||||||||||||||||||||||||||||||||||||||||||||||||||||||||||||||||||||||||||||||||||||||||||||||||||||||||||||||||||||||||||||||||||||||||||||||||||||||||||||||||||||||||||||||||||||||||||||||||||||||||||||||||||||||||||||||||||||||||||||||||||||||||||||||||||||||||||||||||||||||||||||||||||||||||||||||||||||||||||||||||||||||||||||||||||||||||||\n",
      "TTCGTCCGTGTTGCAGCCGATCATCAGCACATCTAGGTTTTGTCCGGGTGTGACCGAAAGGTAAGATGGAGAGCCTTGTCCCTGGTTTCAACGAGAAAACACACGTCCAACTCAGTTTGCCTGTTTTACAGGTTCGCGACGTGCTCGTACGTGGCTTTGGAGACTCCGTGGAGGAGGTCTTATCAGAGGCACGTCAACATCTTAAAGATGGCACTTGTGGCTTAGTAGAAGTTGAAAAAGGCGTTTTGCCTCAACTTGAACAGCCCTATGTGTTCATCAAACGTTCGGATGCTCGAACTGCACCTCATGGTCATGTTATGGTTGAGCTGGTAGCAGAACTCGAAGGCATTCAGTACGGTCGTAGTGGTGAGACACTTGGTGTCCTTGTCCCTCATGTGGG\n",
      "  Score=797\n",
      "\n"
     ]
    }
   ],
   "source": [
    "score = perform_sequence_alignment(ref_seq, alpha_seq, gap_penalty, match_score, mismatch_penalty, start=200, end=600, printRes=True)"
   ]
  },
  {
   "cell_type": "markdown",
   "id": "1cab7e17",
   "metadata": {},
   "source": [
    "## Entre mayor sea el score significa que hay una mayor similitud"
   ]
  },
  {
   "cell_type": "markdown",
   "id": "42a4775f",
   "metadata": {},
   "source": [
    "Lo que haremos ahora será comparar todas las variantes contra la secuencia original, en diferentes regiones, sacar un promedio de cada variante y así comparar (no de una tan buena manera) que tanto se parecen"
   ]
  },
  {
   "cell_type": "code",
   "execution_count": 6,
   "id": "eb28fbee",
   "metadata": {},
   "outputs": [],
   "source": [
    "beta = read_fasta(\"secuencias/beta.fasta\")\n",
    "delta = read_fasta(\"secuencias/delta.fasta\")\n",
    "gamma = read_fasta(\"secuencias/gamma.fasta\")\n",
    "omnicron = read_fasta(\"secuencias/omicron.fasta\")\n",
    "\n",
    "variants = [(alpha_seq, \"alpha\"), (beta, \"beta\"), (gamma, \"gamma\"), (omnicron, \"omnicron\"), (delta, \"delta\")]"
   ]
  },
  {
   "cell_type": "code",
   "execution_count": 7,
   "id": "2644807f",
   "metadata": {},
   "outputs": [],
   "source": [
    "query_ranges = [(i, i+900) for i in range(0, 28001, 900)]"
   ]
  },
  {
   "cell_type": "code",
   "execution_count": 8,
   "id": "8bd9eb7c",
   "metadata": {},
   "outputs": [
    {
     "data": {
      "text/plain": [
       "[(0, 900),\n",
       " (900, 1800),\n",
       " (1800, 2700),\n",
       " (2700, 3600),\n",
       " (3600, 4500),\n",
       " (4500, 5400),\n",
       " (5400, 6300),\n",
       " (6300, 7200),\n",
       " (7200, 8100),\n",
       " (8100, 9000),\n",
       " (9000, 9900),\n",
       " (9900, 10800),\n",
       " (10800, 11700),\n",
       " (11700, 12600),\n",
       " (12600, 13500),\n",
       " (13500, 14400),\n",
       " (14400, 15300),\n",
       " (15300, 16200),\n",
       " (16200, 17100),\n",
       " (17100, 18000),\n",
       " (18000, 18900),\n",
       " (18900, 19800),\n",
       " (19800, 20700),\n",
       " (20700, 21600),\n",
       " (21600, 22500),\n",
       " (22500, 23400),\n",
       " (23400, 24300),\n",
       " (24300, 25200),\n",
       " (25200, 26100),\n",
       " (26100, 27000),\n",
       " (27000, 27900),\n",
       " (27900, 28800)]"
      ]
     },
     "execution_count": 8,
     "metadata": {},
     "output_type": "execute_result"
    }
   ],
   "source": [
    "query_ranges"
   ]
  },
  {
   "cell_type": "code",
   "execution_count": 9,
   "id": "58b0af48",
   "metadata": {},
   "outputs": [],
   "source": [
    "variants_scores = {\n",
    "    \"alpha\" : 0,\n",
    "    \"beta\"  : 0,\n",
    "    \"delta\" : 0,\n",
    "    \"gamma\" : 0,\n",
    "    \"omnicron\" : 0\n",
    "}"
   ]
  },
  {
   "cell_type": "code",
   "execution_count": 10,
   "id": "2f6c6033",
   "metadata": {},
   "outputs": [],
   "source": [
    "for seq, name in variants:\n",
    "    for start, end in query_ranges:\n",
    "        score = perform_sequence_alignment(ref_seq, seq, gap_penalty, match_score, mismatch_penalty, start=start, end=end, printRes=False)\n",
    "        variants_scores[name] += score"
   ]
  },
  {
   "cell_type": "code",
   "execution_count": 11,
   "id": "9fc92ce5",
   "metadata": {},
   "outputs": [],
   "source": [
    "for variant in variants_scores:\n",
    "    variants_scores[variant] /= len(query_ranges)"
   ]
  },
  {
   "cell_type": "code",
   "execution_count": 12,
   "id": "3bcbe75a",
   "metadata": {},
   "outputs": [
    {
     "data": {
      "text/plain": [
       "{'alpha': 1760.65625,\n",
       " 'beta': 1691.0625,\n",
       " 'delta': 1751.3125,\n",
       " 'gamma': 1671.65625,\n",
       " 'omnicron': 1668.78125}"
      ]
     },
     "execution_count": 12,
     "metadata": {},
     "output_type": "execute_result"
    }
   ],
   "source": [
    "variants_scores"
   ]
  },
  {
   "cell_type": "markdown",
   "id": "9cfee5b0",
   "metadata": {},
   "source": [
    "# Realicemos el conteo de GC de cada secuecia"
   ]
  },
  {
   "cell_type": "code",
   "execution_count": 13,
   "id": "e07a4e79",
   "metadata": {},
   "outputs": [
    {
     "name": "stdout",
     "output_type": "stream",
     "text": [
      "alpha: G = 5844, C = 5462\n",
      "beta: G = 5701, C = 5324\n",
      "gamma: G = 5647, C = 5282\n",
      "omnicron: G = 5615, C = 5256\n",
      "delta: G = 5778, C = 5393\n"
     ]
    }
   ],
   "source": [
    "for seq, name in variants:\n",
    "    seqC, seqG = count_c_and_g(seq)\n",
    "    print(f\"{name}: G = {seqG}, C = {seqC}\")"
   ]
  },
  {
   "cell_type": "markdown",
   "id": "c8b0825d",
   "metadata": {},
   "source": [
    "# Ahora comparemos las variantes entre si"
   ]
  },
  {
   "cell_type": "markdown",
   "id": "35aff006",
   "metadata": {},
   "source": [
    "## Alpha"
   ]
  },
  {
   "cell_type": "code",
   "execution_count": 14,
   "id": "a36a1276",
   "metadata": {},
   "outputs": [
    {
     "name": "stdout",
     "output_type": "stream",
     "text": [
      "{'beta': 1722.625, 'delta': 1734.4375, 'gamma': 1687.78125, 'omnicron': 1678.8125}\n"
     ]
    }
   ],
   "source": [
    "variants_scores_alpha = {\n",
    "    \"beta\"  : 0,\n",
    "    \"delta\" : 0,\n",
    "    \"gamma\" : 0,\n",
    "    \"omnicron\" : 0\n",
    "}\n",
    "for seq, name in variants:\n",
    "    for start, end in query_ranges:\n",
    "        if name != \"alpha\":\n",
    "            score = perform_sequence_alignment(alpha_seq, seq, gap_penalty, match_score, mismatch_penalty, start=start, end=end, printRes=False)\n",
    "            variants_scores_alpha[name] += score\n",
    "            \n",
    "for variant in variants_scores_alpha:\n",
    "    variants_scores_alpha[variant] /= len(query_ranges)\n",
    "print(variants_scores_alpha)"
   ]
  },
  {
   "cell_type": "markdown",
   "id": "8bd5db9f",
   "metadata": {},
   "source": [
    "## Beta"
   ]
  },
  {
   "cell_type": "code",
   "execution_count": 15,
   "id": "c99d4735",
   "metadata": {},
   "outputs": [
    {
     "name": "stdout",
     "output_type": "stream",
     "text": [
      "{'alpha': 1722.625, 'delta': 1664.0625, 'gamma': 1627.09375, 'omnicron': 1611.4375}\n"
     ]
    }
   ],
   "source": [
    "variants_scores_beta = {\n",
    "    \"alpha\"  : 0,\n",
    "    \"delta\" : 0,\n",
    "    \"gamma\" : 0,\n",
    "    \"omnicron\" : 0\n",
    "}\n",
    "for seq, name in variants:\n",
    "    for start, end in query_ranges:\n",
    "        if name != \"beta\":\n",
    "            score = perform_sequence_alignment(beta, seq, gap_penalty, match_score, mismatch_penalty, start=start, end=end, printRes=False)\n",
    "            variants_scores_beta[name] += score\n",
    "            \n",
    "for variant in variants_scores_beta:\n",
    "    variants_scores_beta[variant] /= len(query_ranges)\n",
    "print(variants_scores_beta)"
   ]
  },
  {
   "cell_type": "markdown",
   "id": "56351e89",
   "metadata": {},
   "source": [
    "## Delta"
   ]
  },
  {
   "cell_type": "code",
   "execution_count": 16,
   "id": "ce6b937f",
   "metadata": {},
   "outputs": [
    {
     "name": "stdout",
     "output_type": "stream",
     "text": [
      "{'alpha': 1734.4375, 'beta': 1664.0625, 'gamma': 1693.625, 'omnicron': 1644.78125}\n"
     ]
    }
   ],
   "source": [
    "variants_scores_delta = {\n",
    "    \"alpha\"  : 0,\n",
    "    \"beta\" : 0,\n",
    "    \"gamma\" : 0,\n",
    "    \"omnicron\" : 0\n",
    "}\n",
    "for seq, name in variants:\n",
    "    for start, end in query_ranges:\n",
    "        if name != \"delta\":\n",
    "            score = perform_sequence_alignment(delta, seq, gap_penalty, match_score, mismatch_penalty, start=start, end=end, printRes=False)\n",
    "            variants_scores_delta[name] += score\n",
    "            \n",
    "for variant in variants_scores_delta:\n",
    "    variants_scores_delta[variant] /= len(query_ranges)\n",
    "print(variants_scores_delta)"
   ]
  },
  {
   "cell_type": "markdown",
   "id": "931687d9",
   "metadata": {},
   "source": [
    "## Gamma"
   ]
  },
  {
   "cell_type": "code",
   "execution_count": 17,
   "id": "c66b15bf",
   "metadata": {},
   "outputs": [
    {
     "name": "stdout",
     "output_type": "stream",
     "text": [
      "{'alpha': 1687.78125, 'beta': 1627.09375, 'delta': 1693.625, 'omnicron': 1587.5}\n"
     ]
    }
   ],
   "source": [
    "variants_scores_gamma = {\n",
    "    \"alpha\"  : 0,\n",
    "    \"beta\" : 0,\n",
    "    \"delta\" : 0,\n",
    "    \"omnicron\" : 0\n",
    "}\n",
    "for seq, name in variants:\n",
    "    for start, end in query_ranges:\n",
    "        if name != \"gamma\":\n",
    "            score = perform_sequence_alignment(gamma, seq, gap_penalty, match_score, mismatch_penalty, start=start, end=end, printRes=False)\n",
    "            variants_scores_gamma[name] += score\n",
    "            \n",
    "for variant in variants_scores_gamma:\n",
    "    variants_scores_gamma[variant] /= len(query_ranges)\n",
    "print(variants_scores_gamma)"
   ]
  },
  {
   "cell_type": "markdown",
   "id": "52c5246c",
   "metadata": {},
   "source": [
    "# Omnicron"
   ]
  },
  {
   "cell_type": "code",
   "execution_count": 18,
   "id": "16df24a3",
   "metadata": {},
   "outputs": [
    {
     "name": "stdout",
     "output_type": "stream",
     "text": [
      "{'alpha': 1678.8125, 'beta': 1611.4375, 'delta': 1644.78125, 'gamma': 1587.5}\n"
     ]
    }
   ],
   "source": [
    "variants_scores_omnicron = {\n",
    "    \"alpha\"  : 0,\n",
    "    \"beta\" : 0,\n",
    "    \"delta\" : 0,\n",
    "    \"gamma\" : 0\n",
    "}\n",
    "for seq, name in variants:\n",
    "    for start, end in query_ranges:\n",
    "        if name != \"omnicron\":\n",
    "            score = perform_sequence_alignment(omnicron, seq, gap_penalty, match_score, mismatch_penalty, start=start, end=end, printRes=False)\n",
    "            variants_scores_omnicron[name] += score\n",
    "            \n",
    "for variant in variants_scores_omnicron:\n",
    "    variants_scores_omnicron[variant] /= len(query_ranges)\n",
    "print(variants_scores_omnicron)"
   ]
  },
  {
   "cell_type": "markdown",
   "id": "7ddcdaf4",
   "metadata": {},
   "source": [
    "## Needleman-Wunsch"
   ]
  },
  {
   "cell_type": "code",
   "execution_count": null,
   "id": "c5dda5d1",
   "metadata": {},
   "outputs": [],
   "source": [
    "s1,s2, score = needleman_wunsch(ref_seq, alpha_seq, match_score, mismatch_penalty, gap_penalty, 200, 600)"
   ]
  }
 ],
 "metadata": {
  "kernelspec": {
   "display_name": "Python 3 (ipykernel)",
   "language": "python",
   "name": "python3"
  },
  "language_info": {
   "codemirror_mode": {
    "name": "ipython",
    "version": 3
   },
   "file_extension": ".py",
   "mimetype": "text/x-python",
   "name": "python",
   "nbconvert_exporter": "python",
   "pygments_lexer": "ipython3",
   "version": "3.9.6"
  }
 },
 "nbformat": 4,
 "nbformat_minor": 5
}
